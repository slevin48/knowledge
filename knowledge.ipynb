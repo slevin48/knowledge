{
 "metadata": {
  "language_info": {
   "codemirror_mode": {
    "name": "ipython",
    "version": 3
   },
   "file_extension": ".py",
   "mimetype": "text/x-python",
   "name": "python",
   "nbconvert_exporter": "python",
   "pygments_lexer": "ipython3",
   "version": "3.7.6"
  },
  "orig_nbformat": 2,
  "kernelspec": {
   "name": "python3",
   "display_name": "Python 3.7.6 64-bit ('base': conda)"
  },
  "interpreter": {
   "hash": "b3ba2566441a7c06988d0923437866b63cedc61552a5af99d1f4fb67d367b25f"
  }
 },
 "nbformat": 4,
 "nbformat_minor": 2,
 "cells": [
  {
   "source": [
    "# Knowledge\n",
    "\n",
    "📚 Represent personal Knowledge as a graph, with nodes for articles and edges for connections between them. The connections are computed based on the number of tags in commun. This should serve as a way to discover visually new content, and browse through existing content."
   ],
   "cell_type": "markdown",
   "metadata": {}
  },
  {
   "cell_type": "code",
   "execution_count": 1,
   "metadata": {},
   "outputs": [],
   "source": [
    "import pandas as pd"
   ]
  },
  {
   "cell_type": "code",
   "execution_count": 3,
   "metadata": {},
   "outputs": [
    {
     "output_type": "execute_result",
     "data": {
      "text/plain": [
       "                                               title  \\\n",
       "0  What's New in Python 3.9 | Future of Python | ...   \n",
       "1   Topic Modeling with BERT. | Towards Data Science   \n",
       "2  Building Music Playlists Recommendation System...   \n",
       "3  Internet des objets : PTC continue ses emplett...   \n",
       "4  WeChat, ou comment prendre les plateformes à l...   \n",
       "\n",
       "                                                 url  \\\n",
       "0  https://towardsdatascience.com/python-3-9-9c2c...   \n",
       "1  https://towardsdatascience.com/topic-modeling-...   \n",
       "2  https://towardsdatascience.com/building-music-...   \n",
       "3  http://www.lembarque.com/internet-des-objets-p...   \n",
       "4  http://www.paristechreview.com/2017/01/15/wech...   \n",
       "\n",
       "                                 tags description  comments annotations  \\\n",
       "0                                 NaN         NaN       NaN         NaN   \n",
       "1                      \"data science\"         NaN       NaN         NaN   \n",
       "2                music,\"data science\"         NaN       NaN         NaN   \n",
       "3  platform,internet,embarqué,PTC,iot         NaN       NaN         NaN   \n",
       "4                            platform         NaN       NaN         NaN   \n",
       "\n",
       "            created_at  \n",
       "0  2020-10-05 14:30:12  \n",
       "1  2020-10-05 14:27:29  \n",
       "2  2020-10-03 14:42:32  \n",
       "3  2017-01-27 09:02:14  \n",
       "4  2017-01-17 16:12:12  "
      ],
      "text/html": "<div>\n<style scoped>\n    .dataframe tbody tr th:only-of-type {\n        vertical-align: middle;\n    }\n\n    .dataframe tbody tr th {\n        vertical-align: top;\n    }\n\n    .dataframe thead th {\n        text-align: right;\n    }\n</style>\n<table border=\"1\" class=\"dataframe\">\n  <thead>\n    <tr style=\"text-align: right;\">\n      <th></th>\n      <th>title</th>\n      <th>url</th>\n      <th>tags</th>\n      <th>description</th>\n      <th>comments</th>\n      <th>annotations</th>\n      <th>created_at</th>\n    </tr>\n  </thead>\n  <tbody>\n    <tr>\n      <th>0</th>\n      <td>What's New in Python 3.9 | Future of Python | ...</td>\n      <td>https://towardsdatascience.com/python-3-9-9c2c...</td>\n      <td>NaN</td>\n      <td>NaN</td>\n      <td>NaN</td>\n      <td>NaN</td>\n      <td>2020-10-05 14:30:12</td>\n    </tr>\n    <tr>\n      <th>1</th>\n      <td>Topic Modeling with BERT. | Towards Data Science</td>\n      <td>https://towardsdatascience.com/topic-modeling-...</td>\n      <td>\"data science\"</td>\n      <td>NaN</td>\n      <td>NaN</td>\n      <td>NaN</td>\n      <td>2020-10-05 14:27:29</td>\n    </tr>\n    <tr>\n      <th>2</th>\n      <td>Building Music Playlists Recommendation System...</td>\n      <td>https://towardsdatascience.com/building-music-...</td>\n      <td>music,\"data science\"</td>\n      <td>NaN</td>\n      <td>NaN</td>\n      <td>NaN</td>\n      <td>2020-10-03 14:42:32</td>\n    </tr>\n    <tr>\n      <th>3</th>\n      <td>Internet des objets : PTC continue ses emplett...</td>\n      <td>http://www.lembarque.com/internet-des-objets-p...</td>\n      <td>platform,internet,embarqué,PTC,iot</td>\n      <td>NaN</td>\n      <td>NaN</td>\n      <td>NaN</td>\n      <td>2017-01-27 09:02:14</td>\n    </tr>\n    <tr>\n      <th>4</th>\n      <td>WeChat, ou comment prendre les plateformes à l...</td>\n      <td>http://www.paristechreview.com/2017/01/15/wech...</td>\n      <td>platform</td>\n      <td>NaN</td>\n      <td>NaN</td>\n      <td>NaN</td>\n      <td>2017-01-17 16:12:12</td>\n    </tr>\n  </tbody>\n</table>\n</div>"
     },
     "metadata": {},
     "execution_count": 3
    }
   ],
   "source": [
    "df = pd.read_csv('diigo/diigo_csv_2020_10_05.csv')\n",
    "df.head()"
   ]
  },
  {
   "cell_type": "code",
   "execution_count": 4,
   "metadata": {},
   "outputs": [
    {
     "output_type": "execute_result",
     "data": {
      "text/plain": [
       "0                                                     \n",
       "1                                       \"data science\"\n",
       "2                                 music,\"data science\"\n",
       "3                   platform,internet,embarqué,PTC,iot\n",
       "4                                             platform\n",
       "                             ...                      \n",
       "2729                       \"embedded system\",wikipedia\n",
       "2730    \"embedded system\",automotive,wikipedia,windows\n",
       "2731                       wikipedia,\"embedded system\"\n",
       "2732                                             Tools\n",
       "2733                           bookmarking,diigo,tools\n",
       "Name: tags, Length: 2734, dtype: object"
      ]
     },
     "metadata": {},
     "execution_count": 4
    }
   ],
   "source": [
    "df.tags.fillna('')"
   ]
  },
  {
   "cell_type": "code",
   "execution_count": 5,
   "metadata": {},
   "outputs": [
    {
     "output_type": "execute_result",
     "data": {
      "text/plain": [
       "2734"
      ]
     },
     "metadata": {},
     "execution_count": 5
    }
   ],
   "source": [
    "n = len(df)\n",
    "n"
   ]
  },
  {
   "source": [
    "## Tagslist"
   ],
   "cell_type": "markdown",
   "metadata": {}
  },
  {
   "cell_type": "code",
   "execution_count": 6,
   "metadata": {
    "tags": []
   },
   "outputs": [],
   "source": [
    "list0 = [\",\" for i in range(len(df))]\n",
    "# df0 = pd.DataFrame(list0)"
   ]
  },
  {
   "cell_type": "code",
   "execution_count": 7,
   "metadata": {},
   "outputs": [],
   "source": [
    "s0 = pd.Series(list0)"
   ]
  },
  {
   "cell_type": "code",
   "execution_count": 8,
   "metadata": {},
   "outputs": [],
   "source": [
    "s = df.tags.fillna('') + s0\n",
    "tagsum = s.sum()"
   ]
  },
  {
   "cell_type": "code",
   "execution_count": 9,
   "metadata": {},
   "outputs": [
    {
     "output_type": "execute_result",
     "data": {
      "text/plain": [
       "667"
      ]
     },
     "metadata": {},
     "execution_count": 9
    }
   ],
   "source": [
    "tagslist = tagsum.split(\",\")\n",
    "tagslist = list(dict.fromkeys(tagslist))\n",
    "tagslist.remove('')\n",
    "p = len(tagslist)\n",
    "p"
   ]
  },
  {
   "cell_type": "code",
   "execution_count": 10,
   "metadata": {},
   "outputs": [
    {
     "output_type": "execute_result",
     "data": {
      "text/plain": [
       "['\"data science\"',\n",
       " 'music',\n",
       " 'platform',\n",
       " 'internet',\n",
       " 'embarqué',\n",
       " 'PTC',\n",
       " 'iot',\n",
       " 'project',\n",
       " '\"knowledge management\"',\n",
       " 'trello']"
      ]
     },
     "metadata": {},
     "execution_count": 10
    }
   ],
   "source": [
    "tagslist[0:10]"
   ]
  },
  {
   "source": [
    "### Handle multiple tags for one article"
   ],
   "cell_type": "markdown",
   "metadata": {}
  },
  {
   "cell_type": "code",
   "execution_count": 11,
   "metadata": {},
   "outputs": [
    {
     "output_type": "execute_result",
     "data": {
      "text/plain": [
       "'platform'"
      ]
     },
     "metadata": {},
     "execution_count": 11
    }
   ],
   "source": [
    "df['tags'][4]"
   ]
  },
  {
   "cell_type": "code",
   "execution_count": 12,
   "metadata": {},
   "outputs": [
    {
     "output_type": "execute_result",
     "data": {
      "text/plain": [
       "2"
      ]
     },
     "metadata": {},
     "execution_count": 12
    }
   ],
   "source": [
    "tagslist.index(df['tags'][4])"
   ]
  },
  {
   "cell_type": "code",
   "execution_count": 13,
   "metadata": {},
   "outputs": [
    {
     "output_type": "execute_result",
     "data": {
      "text/plain": [
       "['platform']"
      ]
     },
     "metadata": {},
     "execution_count": 13
    }
   ],
   "source": [
    "l = df['tags'][4].split(\",\")\n",
    "l"
   ]
  },
  {
   "cell_type": "code",
   "execution_count": 14,
   "metadata": {},
   "outputs": [
    {
     "output_type": "execute_result",
     "data": {
      "text/plain": [
       "['music', '\"data science\"']"
      ]
     },
     "metadata": {},
     "execution_count": 14
    }
   ],
   "source": [
    "l = df['tags'][2].split(\",\")\n",
    "l"
   ]
  },
  {
   "cell_type": "code",
   "execution_count": 15,
   "metadata": {
    "tags": []
   },
   "outputs": [
    {
     "output_type": "stream",
     "name": "stdout",
     "text": [
      "1\n0\n"
     ]
    }
   ],
   "source": [
    "for i in l:\n",
    "    print(tagslist.index(i))"
   ]
  },
  {
   "cell_type": "code",
   "execution_count": 16,
   "metadata": {},
   "outputs": [
    {
     "output_type": "execute_result",
     "data": {
      "text/plain": [
       "'music'"
      ]
     },
     "metadata": {},
     "execution_count": 16
    }
   ],
   "source": [
    "df['tags'][2].split(\",\")[0]"
   ]
  },
  {
   "source": [
    "### Handle no tag for one article"
   ],
   "cell_type": "markdown",
   "metadata": {}
  },
  {
   "cell_type": "code",
   "execution_count": 17,
   "metadata": {},
   "outputs": [
    {
     "output_type": "execute_result",
     "data": {
      "text/plain": [
       "nan"
      ]
     },
     "metadata": {},
     "execution_count": 17
    }
   ],
   "source": [
    "# handle cases with no tag (nan)\n",
    "df['tags'][0]"
   ]
  },
  {
   "cell_type": "code",
   "execution_count": 18,
   "metadata": {},
   "outputs": [
    {
     "output_type": "execute_result",
     "data": {
      "text/plain": [
       "True"
      ]
     },
     "metadata": {},
     "execution_count": 18
    }
   ],
   "source": [
    "pd.isna(df['tags'][0])"
   ]
  },
  {
   "cell_type": "code",
   "execution_count": 19,
   "metadata": {
    "tags": []
   },
   "outputs": [
    {
     "output_type": "execute_result",
     "data": {
      "text/plain": [
       "True"
      ]
     },
     "metadata": {},
     "execution_count": 19
    }
   ],
   "source": [
    "from math import isnan\n",
    "isnan(df['tags'][0])"
   ]
  },
  {
   "cell_type": "code",
   "execution_count": 20,
   "metadata": {},
   "outputs": [
    {
     "output_type": "execute_result",
     "data": {
      "text/plain": [
       "1"
      ]
     },
     "metadata": {},
     "execution_count": 20
    }
   ],
   "source": [
    "df['tags'][[0]].isnull().sum()"
   ]
  },
  {
   "cell_type": "code",
   "execution_count": 21,
   "metadata": {},
   "outputs": [
    {
     "output_type": "execute_result",
     "data": {
      "text/plain": [
       "0        True\n",
       "1       False\n",
       "2       False\n",
       "3       False\n",
       "4       False\n",
       "        ...  \n",
       "2729    False\n",
       "2730    False\n",
       "2731    False\n",
       "2732    False\n",
       "2733    False\n",
       "Name: tags, Length: 2734, dtype: bool"
      ]
     },
     "metadata": {},
     "execution_count": 21
    }
   ],
   "source": [
    "df['tags'].isnull()"
   ]
  },
  {
   "cell_type": "code",
   "execution_count": 22,
   "metadata": {
    "tags": []
   },
   "outputs": [
    {
     "output_type": "execute_result",
     "data": {
      "text/plain": [
       "-2"
      ]
     },
     "metadata": {},
     "execution_count": 22
    }
   ],
   "source": [
    "~pd.isna(df['tags'][0])"
   ]
  },
  {
   "source": [
    "## Adjacency matrix linking articles and tags\n",
    "\n"
   ],
   "cell_type": "markdown",
   "metadata": {}
  },
  {
   "source": [
    "from IPython.display import Image \n",
    "Image(filename='img/file_1_vector.png',width=300)"
   ],
   "cell_type": "code",
   "metadata": {},
   "execution_count": 23,
   "outputs": [
    {
     "output_type": "execute_result",
     "data": {
      "image/png": "[encoded data removed]",
      "text/plain": [
       "<IPython.core.display.Image object>"
      ]
     },
     "metadata": {
      "image/png": {
       "width": 300
      }
     },
     "execution_count": 23
    }
   ]
  },
  {
   "cell_type": "code",
   "execution_count": 24,
   "metadata": {
    "tags": []
   },
   "outputs": [],
   "source": [
    "# Create a vector of n tags appearing in the set of articles\n",
    "# Incrementing in parallel the matrix T joining the articles (rows) with the corresponding tags(columns)\n",
    "\n",
    "import numpy as np\n",
    "\n",
    "T = np.zeros((n,p))\n",
    "\n",
    "for index, row in df.iterrows():\n",
    "    # iterate on the dataframe of articles \n",
    "    if not pd.isna(row['tags']):\n",
    "        l = row['tags'].split(\",\")\n",
    "        for i in l:\n",
    "            j = tagslist.index(i)\n",
    "            T[index,j] = 1"
   ]
  },
  {
   "cell_type": "code",
   "execution_count": 25,
   "metadata": {},
   "outputs": [
    {
     "output_type": "execute_result",
     "data": {
      "text/plain": [
       "1.0"
      ]
     },
     "metadata": {},
     "execution_count": 25
    }
   ],
   "source": [
    "T[1,0] # article on \"Topic Modeling\" with tag \"data science\""
   ]
  },
  {
   "cell_type": "code",
   "execution_count": 26,
   "metadata": {},
   "outputs": [
    {
     "output_type": "execute_result",
     "data": {
      "text/plain": [
       "array([0], dtype=int64)"
      ]
     },
     "metadata": {},
     "execution_count": 26
    }
   ],
   "source": [
    "w = np.where(T[1]==1)\n",
    "v = w[0]\n",
    "v # array of positions of 1s in the vector T[1]"
   ]
  },
  {
   "cell_type": "code",
   "execution_count": 27,
   "metadata": {
    "tags": []
   },
   "outputs": [
    {
     "output_type": "execute_result",
     "data": {
      "text/plain": [
       "(array([0, 1], dtype=int64),)"
      ]
     },
     "metadata": {},
     "execution_count": 27
    }
   ],
   "source": [
    "np.where(T[2]==1)"
   ]
  },
  {
   "cell_type": "code",
   "execution_count": 28,
   "metadata": {},
   "outputs": [
    {
     "output_type": "execute_result",
     "data": {
      "text/plain": [
       "(array([2, 3, 4, 5, 6], dtype=int64),)"
      ]
     },
     "metadata": {},
     "execution_count": 28
    }
   ],
   "source": [
    "np.where(T[3]==1)"
   ]
  },
  {
   "cell_type": "code",
   "execution_count": 29,
   "metadata": {},
   "outputs": [
    {
     "output_type": "execute_result",
     "data": {
      "text/plain": [
       "(array([   1,    2,    2, ..., 2733, 2733, 2733], dtype=int64),\n",
       " array([  0,   0,   1, ...,  67, 198, 199], dtype=int64))"
      ]
     },
     "metadata": {},
     "execution_count": 29
    }
   ],
   "source": [
    "v = np.where(T==1)\n",
    "v1 = v[0]\n",
    "v2 = v[1]\n",
    "v1,v2"
   ]
  },
  {
   "source": [
    "https://www.w3schools.com/python/numpy_array_search.asp"
   ],
   "cell_type": "markdown",
   "metadata": {}
  },
  {
   "cell_type": "code",
   "execution_count": 30,
   "metadata": {},
   "outputs": [],
   "source": [
    "T2 = np.transpose(T)"
   ]
  },
  {
   "cell_type": "code",
   "execution_count": 31,
   "metadata": {},
   "outputs": [],
   "source": [
    "# Computation of the matrix Z which contains \n",
    "# on the diagonale the number of appearance di of each tag i\n",
    "# on the other elements the degree d(i,j) of closeness of 2 tags (i,j)\n",
    "# this matrix is symmetrical\n",
    "\n",
    "Z = np.matmul(T2,T)"
   ]
  },
  {
   "cell_type": "code",
   "execution_count": 44,
   "metadata": {},
   "outputs": [
    {
     "output_type": "execute_result",
     "data": {
      "image/png": "[encoded data removed]",
      "text/plain": [
       "<IPython.core.display.Image object>"
      ]
     },
     "metadata": {},
     "execution_count": 44
    }
   ],
   "source": [
    "from IPython.display import Image \n",
    "Image(filename='img/adjacency_matrix_building.png')"
   ]
  },
  {
   "cell_type": "code",
   "execution_count": 33,
   "metadata": {
    "tags": []
   },
   "outputs": [],
   "source": [
    "Zdiag=[]\n",
    "for i in range(len(Z)):\n",
    "    Zdiag.append(Z[i,i])"
   ]
  },
  {
   "source": [
    "## Sort the 100 most used tags"
   ],
   "cell_type": "markdown",
   "metadata": {}
  },
  {
   "cell_type": "code",
   "execution_count": 35,
   "metadata": {},
   "outputs": [
    {
     "output_type": "execute_result",
     "data": {
      "text/plain": [
       "              tag     r\n",
       "0  \"data science\"   2.0\n",
       "1           music  19.0\n",
       "2        platform  12.0\n",
       "3        internet  29.0\n",
       "4        embarqué   6.0"
      ],
      "text/html": "<div>\n<style scoped>\n    .dataframe tbody tr th:only-of-type {\n        vertical-align: middle;\n    }\n\n    .dataframe tbody tr th {\n        vertical-align: top;\n    }\n\n    .dataframe thead th {\n        text-align: right;\n    }\n</style>\n<table border=\"1\" class=\"dataframe\">\n  <thead>\n    <tr style=\"text-align: right;\">\n      <th></th>\n      <th>tag</th>\n      <th>r</th>\n    </tr>\n  </thead>\n  <tbody>\n    <tr>\n      <th>0</th>\n      <td>\"data science\"</td>\n      <td>2.0</td>\n    </tr>\n    <tr>\n      <th>1</th>\n      <td>music</td>\n      <td>19.0</td>\n    </tr>\n    <tr>\n      <th>2</th>\n      <td>platform</td>\n      <td>12.0</td>\n    </tr>\n    <tr>\n      <th>3</th>\n      <td>internet</td>\n      <td>29.0</td>\n    </tr>\n    <tr>\n      <th>4</th>\n      <td>embarqué</td>\n      <td>6.0</td>\n    </tr>\n  </tbody>\n</table>\n</div>"
     },
     "metadata": {},
     "execution_count": 35
    }
   ],
   "source": [
    "# pd.Series(tagslist)\n",
    "tags = pd.DataFrame(tagslist, columns=[\"tag\"])\n",
    "tags[\"r\"]=Zdiag\n",
    "tags.head()"
   ]
  },
  {
   "cell_type": "code",
   "execution_count": 36,
   "metadata": {},
   "outputs": [],
   "source": [
    "# zdiag = pd.DataFrame(Zdiag,columns = [\"r\"])"
   ]
  },
  {
   "cell_type": "code",
   "execution_count": 37,
   "metadata": {},
   "outputs": [],
   "source": [
    "# Zdiag.sort(reverse=True)\n",
    "# Zdiag"
   ]
  },
  {
   "cell_type": "code",
   "execution_count": 38,
   "metadata": {},
   "outputs": [
    {
     "output_type": "execute_result",
     "data": {
      "text/plain": [
       "                  tag      r\n",
       "28           software  281.0\n",
       "12   \"usine nouvelle\"  188.0\n",
       "77          wikipedia  168.0\n",
       "79             scilab  137.0\n",
       "112         wikipédia  132.0\n",
       "..                ...    ...\n",
       "637            Veille   18.0\n",
       "25              maker   18.0\n",
       "144         education   18.0\n",
       "158              code   17.0\n",
       "543          Websites   17.0\n",
       "\n",
       "[100 rows x 2 columns]"
      ],
      "text/html": "<div>\n<style scoped>\n    .dataframe tbody tr th:only-of-type {\n        vertical-align: middle;\n    }\n\n    .dataframe tbody tr th {\n        vertical-align: top;\n    }\n\n    .dataframe thead th {\n        text-align: right;\n    }\n</style>\n<table border=\"1\" class=\"dataframe\">\n  <thead>\n    <tr style=\"text-align: right;\">\n      <th></th>\n      <th>tag</th>\n      <th>r</th>\n    </tr>\n  </thead>\n  <tbody>\n    <tr>\n      <th>28</th>\n      <td>software</td>\n      <td>281.0</td>\n    </tr>\n    <tr>\n      <th>12</th>\n      <td>\"usine nouvelle\"</td>\n      <td>188.0</td>\n    </tr>\n    <tr>\n      <th>77</th>\n      <td>wikipedia</td>\n      <td>168.0</td>\n    </tr>\n    <tr>\n      <th>79</th>\n      <td>scilab</td>\n      <td>137.0</td>\n    </tr>\n    <tr>\n      <th>112</th>\n      <td>wikipédia</td>\n      <td>132.0</td>\n    </tr>\n    <tr>\n      <th>...</th>\n      <td>...</td>\n      <td>...</td>\n    </tr>\n    <tr>\n      <th>637</th>\n      <td>Veille</td>\n      <td>18.0</td>\n    </tr>\n    <tr>\n      <th>25</th>\n      <td>maker</td>\n      <td>18.0</td>\n    </tr>\n    <tr>\n      <th>144</th>\n      <td>education</td>\n      <td>18.0</td>\n    </tr>\n    <tr>\n      <th>158</th>\n      <td>code</td>\n      <td>17.0</td>\n    </tr>\n    <tr>\n      <th>543</th>\n      <td>Websites</td>\n      <td>17.0</td>\n    </tr>\n  </tbody>\n</table>\n<p>100 rows × 2 columns</p>\n</div>"
     },
     "metadata": {},
     "execution_count": 38
    }
   ],
   "source": [
    "# Sorting by descending value of r, and selecting the 100 first tags\n",
    "tags100 = tags.sort_values(\"r\",ascending = False)[0:100]\n",
    "tags100"
   ]
  },
  {
   "source": [
    "## Edges list"
   ],
   "cell_type": "markdown",
   "metadata": {}
  },
  {
   "cell_type": "code",
   "execution_count": 39,
   "metadata": {
    "tags": []
   },
   "outputs": [],
   "source": [
    "E = []\n",
    "# Iterate on the upper triangle matrix above the diag of Z\n",
    "for i in range(len(Z)):\n",
    "    for j in range(i+1,len(Z)):\n",
    "        if Z[i,j] !=0:\n",
    "            E.append([i,j])"
   ]
  },
  {
   "cell_type": "code",
   "execution_count": 40,
   "metadata": {},
   "outputs": [
    {
     "output_type": "execute_result",
     "data": {
      "text/plain": [
       "      source  target\n",
       "0          0       1\n",
       "1          1      12\n",
       "2          1      20\n",
       "3          1      21\n",
       "4          1      28\n",
       "...      ...     ...\n",
       "3800     658     660\n",
       "3801     659     660\n",
       "3802     659     661\n",
       "3803     660     661\n",
       "3804     662     663\n",
       "\n",
       "[3805 rows x 2 columns]"
      ],
      "text/html": "<div>\n<style scoped>\n    .dataframe tbody tr th:only-of-type {\n        vertical-align: middle;\n    }\n\n    .dataframe tbody tr th {\n        vertical-align: top;\n    }\n\n    .dataframe thead th {\n        text-align: right;\n    }\n</style>\n<table border=\"1\" class=\"dataframe\">\n  <thead>\n    <tr style=\"text-align: right;\">\n      <th></th>\n      <th>source</th>\n      <th>target</th>\n    </tr>\n  </thead>\n  <tbody>\n    <tr>\n      <th>0</th>\n      <td>0</td>\n      <td>1</td>\n    </tr>\n    <tr>\n      <th>1</th>\n      <td>1</td>\n      <td>12</td>\n    </tr>\n    <tr>\n      <th>2</th>\n      <td>1</td>\n      <td>20</td>\n    </tr>\n    <tr>\n      <th>3</th>\n      <td>1</td>\n      <td>21</td>\n    </tr>\n    <tr>\n      <th>4</th>\n      <td>1</td>\n      <td>28</td>\n    </tr>\n    <tr>\n      <th>...</th>\n      <td>...</td>\n      <td>...</td>\n    </tr>\n    <tr>\n      <th>3800</th>\n      <td>658</td>\n      <td>660</td>\n    </tr>\n    <tr>\n      <th>3801</th>\n      <td>659</td>\n      <td>660</td>\n    </tr>\n    <tr>\n      <th>3802</th>\n      <td>659</td>\n      <td>661</td>\n    </tr>\n    <tr>\n      <th>3803</th>\n      <td>660</td>\n      <td>661</td>\n    </tr>\n    <tr>\n      <th>3804</th>\n      <td>662</td>\n      <td>663</td>\n    </tr>\n  </tbody>\n</table>\n<p>3805 rows × 2 columns</p>\n</div>"
     },
     "metadata": {},
     "execution_count": 40
    }
   ],
   "source": [
    "edges = pd.DataFrame(E, columns=[\"source\",\"target\"])\n",
    "edges"
   ]
  },
  {
   "source": [
    "## Nodes list"
   ],
   "cell_type": "markdown",
   "metadata": {}
  },
  {
   "cell_type": "code",
   "execution_count": 42,
   "metadata": {},
   "outputs": [
    {
     "output_type": "execute_result",
     "data": {
      "text/plain": [
       "                tag\n",
       "0    \"data science\"\n",
       "1             music\n",
       "2          platform\n",
       "3          internet\n",
       "4          embarqué\n",
       "..              ...\n",
       "662         product\n",
       "663   international\n",
       "664          bitkom\n",
       "665     Unternehmen\n",
       "666        traction\n",
       "\n",
       "[667 rows x 1 columns]"
      ],
      "text/html": "<div>\n<style scoped>\n    .dataframe tbody tr th:only-of-type {\n        vertical-align: middle;\n    }\n\n    .dataframe tbody tr th {\n        vertical-align: top;\n    }\n\n    .dataframe thead th {\n        text-align: right;\n    }\n</style>\n<table border=\"1\" class=\"dataframe\">\n  <thead>\n    <tr style=\"text-align: right;\">\n      <th></th>\n      <th>tag</th>\n    </tr>\n  </thead>\n  <tbody>\n    <tr>\n      <th>0</th>\n      <td>\"data science\"</td>\n    </tr>\n    <tr>\n      <th>1</th>\n      <td>music</td>\n    </tr>\n    <tr>\n      <th>2</th>\n      <td>platform</td>\n    </tr>\n    <tr>\n      <th>3</th>\n      <td>internet</td>\n    </tr>\n    <tr>\n      <th>4</th>\n      <td>embarqué</td>\n    </tr>\n    <tr>\n      <th>...</th>\n      <td>...</td>\n    </tr>\n    <tr>\n      <th>662</th>\n      <td>product</td>\n    </tr>\n    <tr>\n      <th>663</th>\n      <td>international</td>\n    </tr>\n    <tr>\n      <th>664</th>\n      <td>bitkom</td>\n    </tr>\n    <tr>\n      <th>665</th>\n      <td>Unternehmen</td>\n    </tr>\n    <tr>\n      <th>666</th>\n      <td>traction</td>\n    </tr>\n  </tbody>\n</table>\n<p>667 rows × 1 columns</p>\n</div>"
     },
     "metadata": {},
     "execution_count": 42
    }
   ],
   "source": [
    "nodes = pd.DataFrame(tagslist, columns=[\"tag\"])\n",
    "nodes"
   ]
  },
  {
   "cell_type": "code",
   "execution_count": 43,
   "metadata": {},
   "outputs": [],
   "source": [
    "# nodes.to_csv('diigo/nodes_diigo.csv')\n",
    "# edges.to_csv('diigo/edges_diigo.csv')"
   ]
  },
  {
   "source": [
    "## Import Nodes and Edges\n",
    "\n",
    "If starting from existing saved files"
   ],
   "cell_type": "markdown",
   "metadata": {}
  },
  {
   "cell_type": "code",
   "execution_count": 41,
   "metadata": {},
   "outputs": [
    {
     "output_type": "execute_result",
     "data": {
      "text/plain": [
       "      id              tag   r\n",
       "0      1              tag   8\n",
       "1      2        wikipédia  83\n",
       "2      3          science   6\n",
       "3      4    visualisation   8\n",
       "4      5            wired   1\n",
       "..   ...              ...  ..\n",
       "758  759  embedded system   9\n",
       "759  760      Unternehmen   1\n",
       "760  761               it   1\n",
       "761  762           bitkom   1\n",
       "762  763          toolbar   1\n",
       "\n",
       "[763 rows x 3 columns]"
      ],
      "text/html": "<div>\n<style scoped>\n    .dataframe tbody tr th:only-of-type {\n        vertical-align: middle;\n    }\n\n    .dataframe tbody tr th {\n        vertical-align: top;\n    }\n\n    .dataframe thead th {\n        text-align: right;\n    }\n</style>\n<table border=\"1\" class=\"dataframe\">\n  <thead>\n    <tr style=\"text-align: right;\">\n      <th></th>\n      <th>id</th>\n      <th>tag</th>\n      <th>r</th>\n    </tr>\n  </thead>\n  <tbody>\n    <tr>\n      <th>0</th>\n      <td>1</td>\n      <td>tag</td>\n      <td>8</td>\n    </tr>\n    <tr>\n      <th>1</th>\n      <td>2</td>\n      <td>wikipédia</td>\n      <td>83</td>\n    </tr>\n    <tr>\n      <th>2</th>\n      <td>3</td>\n      <td>science</td>\n      <td>6</td>\n    </tr>\n    <tr>\n      <th>3</th>\n      <td>4</td>\n      <td>visualisation</td>\n      <td>8</td>\n    </tr>\n    <tr>\n      <th>4</th>\n      <td>5</td>\n      <td>wired</td>\n      <td>1</td>\n    </tr>\n    <tr>\n      <th>...</th>\n      <td>...</td>\n      <td>...</td>\n      <td>...</td>\n    </tr>\n    <tr>\n      <th>758</th>\n      <td>759</td>\n      <td>embedded system</td>\n      <td>9</td>\n    </tr>\n    <tr>\n      <th>759</th>\n      <td>760</td>\n      <td>Unternehmen</td>\n      <td>1</td>\n    </tr>\n    <tr>\n      <th>760</th>\n      <td>761</td>\n      <td>it</td>\n      <td>1</td>\n    </tr>\n    <tr>\n      <th>761</th>\n      <td>762</td>\n      <td>bitkom</td>\n      <td>1</td>\n    </tr>\n    <tr>\n      <th>762</th>\n      <td>763</td>\n      <td>toolbar</td>\n      <td>1</td>\n    </tr>\n  </tbody>\n</table>\n<p>763 rows × 3 columns</p>\n</div>"
     },
     "metadata": {},
     "execution_count": 41
    }
   ],
   "source": [
    "nodes = pd.read_csv('diigo/nodes_diigo.csv')\n",
    "nodes"
   ]
  },
  {
   "cell_type": "code",
   "execution_count": 42,
   "metadata": {},
   "outputs": [
    {
     "output_type": "execute_result",
     "data": {
      "text/plain": [
       "      id              tag  r\n",
       "4      5            wired  1\n",
       "16    17  Arts et Métiers  1\n",
       "28    29     google books  1\n",
       "38    39          hosting  1\n",
       "40    41     khan academy  1\n",
       "..   ...              ... ..\n",
       "757  758       konkurrenz  1\n",
       "759  760      Unternehmen  1\n",
       "760  761               it  1\n",
       "761  762           bitkom  1\n",
       "762  763          toolbar  1\n",
       "\n",
       "[330 rows x 3 columns]"
      ],
      "text/html": "<div>\n<style scoped>\n    .dataframe tbody tr th:only-of-type {\n        vertical-align: middle;\n    }\n\n    .dataframe tbody tr th {\n        vertical-align: top;\n    }\n\n    .dataframe thead th {\n        text-align: right;\n    }\n</style>\n<table border=\"1\" class=\"dataframe\">\n  <thead>\n    <tr style=\"text-align: right;\">\n      <th></th>\n      <th>id</th>\n      <th>tag</th>\n      <th>r</th>\n    </tr>\n  </thead>\n  <tbody>\n    <tr>\n      <th>4</th>\n      <td>5</td>\n      <td>wired</td>\n      <td>1</td>\n    </tr>\n    <tr>\n      <th>16</th>\n      <td>17</td>\n      <td>Arts et Métiers</td>\n      <td>1</td>\n    </tr>\n    <tr>\n      <th>28</th>\n      <td>29</td>\n      <td>google books</td>\n      <td>1</td>\n    </tr>\n    <tr>\n      <th>38</th>\n      <td>39</td>\n      <td>hosting</td>\n      <td>1</td>\n    </tr>\n    <tr>\n      <th>40</th>\n      <td>41</td>\n      <td>khan academy</td>\n      <td>1</td>\n    </tr>\n    <tr>\n      <th>...</th>\n      <td>...</td>\n      <td>...</td>\n      <td>...</td>\n    </tr>\n    <tr>\n      <th>757</th>\n      <td>758</td>\n      <td>konkurrenz</td>\n      <td>1</td>\n    </tr>\n    <tr>\n      <th>759</th>\n      <td>760</td>\n      <td>Unternehmen</td>\n      <td>1</td>\n    </tr>\n    <tr>\n      <th>760</th>\n      <td>761</td>\n      <td>it</td>\n      <td>1</td>\n    </tr>\n    <tr>\n      <th>761</th>\n      <td>762</td>\n      <td>bitkom</td>\n      <td>1</td>\n    </tr>\n    <tr>\n      <th>762</th>\n      <td>763</td>\n      <td>toolbar</td>\n      <td>1</td>\n    </tr>\n  </tbody>\n</table>\n<p>330 rows × 3 columns</p>\n</div>"
     },
     "metadata": {},
     "execution_count": 42
    }
   ],
   "source": [
    "# Filter out the tags that are only used once\n",
    "nodes[nodes['r'] == 1]"
   ]
  },
  {
   "cell_type": "code",
   "execution_count": 43,
   "metadata": {},
   "outputs": [
    {
     "output_type": "execute_result",
     "data": {
      "text/plain": [
       "      id                   tag   r\n",
       "0      1                   tag   8\n",
       "1      2             wikipédia  83\n",
       "2      3               science   6\n",
       "3      4         visualisation   8\n",
       "5      6                   iot  60\n",
       "..   ...                   ...  ..\n",
       "746  747               deutsch   3\n",
       "747  748  unternehmensberatung   4\n",
       "748  749                    JE   3\n",
       "749  750              european   3\n",
       "758  759       embedded system   9\n",
       "\n",
       "[433 rows x 3 columns]"
      ],
      "text/html": "<div>\n<style scoped>\n    .dataframe tbody tr th:only-of-type {\n        vertical-align: middle;\n    }\n\n    .dataframe tbody tr th {\n        vertical-align: top;\n    }\n\n    .dataframe thead th {\n        text-align: right;\n    }\n</style>\n<table border=\"1\" class=\"dataframe\">\n  <thead>\n    <tr style=\"text-align: right;\">\n      <th></th>\n      <th>id</th>\n      <th>tag</th>\n      <th>r</th>\n    </tr>\n  </thead>\n  <tbody>\n    <tr>\n      <th>0</th>\n      <td>1</td>\n      <td>tag</td>\n      <td>8</td>\n    </tr>\n    <tr>\n      <th>1</th>\n      <td>2</td>\n      <td>wikipédia</td>\n      <td>83</td>\n    </tr>\n    <tr>\n      <th>2</th>\n      <td>3</td>\n      <td>science</td>\n      <td>6</td>\n    </tr>\n    <tr>\n      <th>3</th>\n      <td>4</td>\n      <td>visualisation</td>\n      <td>8</td>\n    </tr>\n    <tr>\n      <th>5</th>\n      <td>6</td>\n      <td>iot</td>\n      <td>60</td>\n    </tr>\n    <tr>\n      <th>...</th>\n      <td>...</td>\n      <td>...</td>\n      <td>...</td>\n    </tr>\n    <tr>\n      <th>746</th>\n      <td>747</td>\n      <td>deutsch</td>\n      <td>3</td>\n    </tr>\n    <tr>\n      <th>747</th>\n      <td>748</td>\n      <td>unternehmensberatung</td>\n      <td>4</td>\n    </tr>\n    <tr>\n      <th>748</th>\n      <td>749</td>\n      <td>JE</td>\n      <td>3</td>\n    </tr>\n    <tr>\n      <th>749</th>\n      <td>750</td>\n      <td>european</td>\n      <td>3</td>\n    </tr>\n    <tr>\n      <th>758</th>\n      <td>759</td>\n      <td>embedded system</td>\n      <td>9</td>\n    </tr>\n  </tbody>\n</table>\n<p>433 rows × 3 columns</p>\n</div>"
     },
     "metadata": {},
     "execution_count": 43
    }
   ],
   "source": [
    "nodes2 = nodes[nodes['r'] > 1]\n",
    "nodes2"
   ]
  },
  {
   "cell_type": "code",
   "execution_count": 44,
   "metadata": {},
   "outputs": [
    {
     "output_type": "execute_result",
     "data": {
      "text/plain": [
       "      source  target\n",
       "0          1       2\n",
       "1          1      10\n",
       "2          1      15\n",
       "3          1      30\n",
       "4          1     110\n",
       "...      ...     ...\n",
       "1930     750     754\n",
       "1931     759     760\n",
       "1932     759     761\n",
       "1933     759     762\n",
       "1934     761     762\n",
       "\n",
       "[1935 rows x 2 columns]"
      ],
      "text/html": "<div>\n<style scoped>\n    .dataframe tbody tr th:only-of-type {\n        vertical-align: middle;\n    }\n\n    .dataframe tbody tr th {\n        vertical-align: top;\n    }\n\n    .dataframe thead th {\n        text-align: right;\n    }\n</style>\n<table border=\"1\" class=\"dataframe\">\n  <thead>\n    <tr style=\"text-align: right;\">\n      <th></th>\n      <th>source</th>\n      <th>target</th>\n    </tr>\n  </thead>\n  <tbody>\n    <tr>\n      <th>0</th>\n      <td>1</td>\n      <td>2</td>\n    </tr>\n    <tr>\n      <th>1</th>\n      <td>1</td>\n      <td>10</td>\n    </tr>\n    <tr>\n      <th>2</th>\n      <td>1</td>\n      <td>15</td>\n    </tr>\n    <tr>\n      <th>3</th>\n      <td>1</td>\n      <td>30</td>\n    </tr>\n    <tr>\n      <th>4</th>\n      <td>1</td>\n      <td>110</td>\n    </tr>\n    <tr>\n      <th>...</th>\n      <td>...</td>\n      <td>...</td>\n    </tr>\n    <tr>\n      <th>1930</th>\n      <td>750</td>\n      <td>754</td>\n    </tr>\n    <tr>\n      <th>1931</th>\n      <td>759</td>\n      <td>760</td>\n    </tr>\n    <tr>\n      <th>1932</th>\n      <td>759</td>\n      <td>761</td>\n    </tr>\n    <tr>\n      <th>1933</th>\n      <td>759</td>\n      <td>762</td>\n    </tr>\n    <tr>\n      <th>1934</th>\n      <td>761</td>\n      <td>762</td>\n    </tr>\n  </tbody>\n</table>\n<p>1935 rows × 2 columns</p>\n</div>"
     },
     "metadata": {},
     "execution_count": 44
    }
   ],
   "source": [
    "edges = pd.read_csv('Diigo/edges_diigo.csv')\n",
    "edges"
   ]
  },
  {
   "cell_type": "code",
   "execution_count": 45,
   "metadata": {},
   "outputs": [
    {
     "output_type": "execute_result",
     "data": {
      "text/plain": [
       "     source  target\n",
       "383      17      18"
      ],
      "text/html": "<div>\n<style scoped>\n    .dataframe tbody tr th:only-of-type {\n        vertical-align: middle;\n    }\n\n    .dataframe tbody tr th {\n        vertical-align: top;\n    }\n\n    .dataframe thead th {\n        text-align: right;\n    }\n</style>\n<table border=\"1\" class=\"dataframe\">\n  <thead>\n    <tr style=\"text-align: right;\">\n      <th></th>\n      <th>source</th>\n      <th>target</th>\n    </tr>\n  </thead>\n  <tbody>\n    <tr>\n      <th>383</th>\n      <td>17</td>\n      <td>18</td>\n    </tr>\n  </tbody>\n</table>\n</div>"
     },
     "metadata": {},
     "execution_count": 45
    }
   ],
   "source": [
    "edges[edges.source == 17]"
   ]
  },
  {
   "cell_type": "code",
   "execution_count": 46,
   "metadata": {},
   "outputs": [
    {
     "output_type": "execute_result",
     "data": {
      "text/plain": [
       "    id    tag   r\n",
       "17  18  video  29"
      ],
      "text/html": "<div>\n<style scoped>\n    .dataframe tbody tr th:only-of-type {\n        vertical-align: middle;\n    }\n\n    .dataframe tbody tr th {\n        vertical-align: top;\n    }\n\n    .dataframe thead th {\n        text-align: right;\n    }\n</style>\n<table border=\"1\" class=\"dataframe\">\n  <thead>\n    <tr style=\"text-align: right;\">\n      <th></th>\n      <th>id</th>\n      <th>tag</th>\n      <th>r</th>\n    </tr>\n  </thead>\n  <tbody>\n    <tr>\n      <th>17</th>\n      <td>18</td>\n      <td>video</td>\n      <td>29</td>\n    </tr>\n  </tbody>\n</table>\n</div>"
     },
     "metadata": {},
     "execution_count": 46
    }
   ],
   "source": [
    "nodes[nodes.id == 18]"
   ]
  },
  {
   "source": [
    "## Top 10 graph"
   ],
   "cell_type": "markdown",
   "metadata": {}
  },
  {
   "cell_type": "code",
   "execution_count": 65,
   "metadata": {},
   "outputs": [],
   "source": [
    "nodes = pd.read_csv('diigo/nodes_diigo_top10.csv')\n",
    "edges = pd.read_csv('diigo/edges_diigo_top10.csv')"
   ]
  },
  {
   "source": [
    "## Graph building"
   ],
   "cell_type": "markdown",
   "metadata": {}
  },
  {
   "cell_type": "code",
   "execution_count": 67,
   "metadata": {},
   "outputs": [],
   "source": [
    "import networkx as nx\n",
    "G = nx.Graph()"
   ]
  },
  {
   "cell_type": "code",
   "execution_count": 68,
   "metadata": {
    "tags": []
   },
   "outputs": [],
   "source": [
    "for index, row in nodes.iterrows():\n",
    "    # print(row['tag'],row['r'])\n",
    "    # G.add_node(row['id'])\n",
    "    G.add_node(index)"
   ]
  },
  {
   "cell_type": "code",
   "execution_count": 69,
   "metadata": {},
   "outputs": [
    {
     "output_type": "execute_result",
     "data": {
      "text/plain": [
       "10"
      ]
     },
     "metadata": {},
     "execution_count": 69
    }
   ],
   "source": [
    "G.number_of_nodes()"
   ]
  },
  {
   "cell_type": "code",
   "execution_count": 70,
   "metadata": {},
   "outputs": [
    {
     "output_type": "execute_result",
     "data": {
      "text/plain": [
       "NodeView((0, 1, 2, 3, 4, 5, 6, 7, 8, 9))"
      ]
     },
     "metadata": {},
     "execution_count": 70
    }
   ],
   "source": [
    "G.nodes()"
   ]
  },
  {
   "cell_type": "code",
   "execution_count": 71,
   "metadata": {},
   "outputs": [
    {
     "output_type": "execute_result",
     "data": {
      "text/plain": [
       "numpy.int64"
      ]
     },
     "metadata": {},
     "execution_count": 71
    }
   ],
   "source": [
    "type(edges['source'][0])"
   ]
  },
  {
   "cell_type": "code",
   "execution_count": 72,
   "metadata": {
    "tags": []
   },
   "outputs": [],
   "source": [
    "# By default, source and target are numpy.int64\n",
    "# Translated to int for further JSON serialization\n",
    "for index, row in edges.iterrows():\n",
    "    # print(row['source'],row['target'])\n",
    "    G.add_edge(int(row['source']),int(row['target']))"
   ]
  },
  {
   "cell_type": "code",
   "execution_count": 73,
   "metadata": {},
   "outputs": [
    {
     "output_type": "execute_result",
     "data": {
      "text/plain": [
       "10"
      ]
     },
     "metadata": {},
     "execution_count": 73
    }
   ],
   "source": [
    "# Check that we have not added nodes in the process of adding edges\n",
    "G.number_of_nodes()"
   ]
  },
  {
   "source": [
    "## D3 Force-directed graph\n",
    "https://observablehq.com/@d3/force-directed-graph"
   ],
   "cell_type": "markdown",
   "metadata": {}
  },
  {
   "cell_type": "code",
   "execution_count": 74,
   "metadata": {},
   "outputs": [],
   "source": [
    "import json\n",
    "import flask\n",
    "# import networkx as nx\n",
    "from networkx.readwrite import json_graph"
   ]
  },
  {
   "cell_type": "code",
   "execution_count": 75,
   "metadata": {},
   "outputs": [
    {
     "output_type": "execute_result",
     "data": {
      "text/plain": [
       "'software'"
      ]
     },
     "metadata": {},
     "execution_count": 75
    }
   ],
   "source": [
    "# nodes.loc[[0]].tag\n",
    "nodes.tag[0]"
   ]
  },
  {
   "cell_type": "code",
   "execution_count": 76,
   "metadata": {
    "tags": []
   },
   "outputs": [],
   "source": [
    "# this d3 example uses the name attribute for the mouse-hover value,\n",
    "# so add a name to each node\n",
    "for n in G:\n",
    "    # nodes id start at 0\n",
    "    G.nodes[n][\"name\"] = nodes.tag[n]\n",
    "    # G.nodes[n][\"name\"] = nodes.tag[n-1]\n",
    "    # G.nodes[n][\"name\"] = n\n",
    "    # print(nodes.tag[n])\n",
    "    # print(n)"
   ]
  },
  {
   "cell_type": "code",
   "execution_count": 77,
   "metadata": {},
   "outputs": [
    {
     "output_type": "execute_result",
     "data": {
      "text/plain": [
       "'software'"
      ]
     },
     "metadata": {},
     "execution_count": 77
    }
   ],
   "source": [
    "G.nodes[0][\"name\"]"
   ]
  },
  {
   "cell_type": "code",
   "execution_count": 78,
   "metadata": {},
   "outputs": [],
   "source": [
    "# G.nodes.data()"
   ]
  },
  {
   "cell_type": "code",
   "execution_count": 79,
   "metadata": {},
   "outputs": [],
   "source": [
    "# write json formatted data\n",
    "d = json_graph.node_link_data(G)  # node-link format to serialize\n",
    "# d"
   ]
  },
  {
   "cell_type": "code",
   "execution_count": 80,
   "metadata": {},
   "outputs": [],
   "source": [
    "# d.get('nodes')\n",
    "# d['nodes']"
   ]
  },
  {
   "cell_type": "code",
   "execution_count": 81,
   "metadata": {},
   "outputs": [
    {
     "output_type": "execute_result",
     "data": {
      "text/plain": [
       "int"
      ]
     },
     "metadata": {},
     "execution_count": 81
    }
   ],
   "source": [
    "# type(d['nodes'][0]['id'])\n",
    "type(d['links'][0]['target'])"
   ]
  },
  {
   "source": [
    "Pay attention when building JSON:\n",
    "\n",
    "*TypeError: Object of type int64 is not JSON serializable*"
   ],
   "cell_type": "markdown",
   "metadata": {}
  },
  {
   "cell_type": "code",
   "execution_count": 82,
   "metadata": {
    "tags": []
   },
   "outputs": [
    {
     "output_type": "stream",
     "name": "stdout",
     "text": [
      "Wrote node-link JSON data to force/force.json\n"
     ]
    }
   ],
   "source": [
    "# write json\n",
    "json.dump(d, open(\"force/force.json\", \"w\"))\n",
    "print(\"Wrote node-link JSON data to force/force.json\")"
   ]
  },
  {
   "cell_type": "code",
   "execution_count": 83,
   "metadata": {
    "tags": []
   },
   "outputs": [
    {
     "output_type": "stream",
     "name": "stdout",
     "text": [
      "\n",
      "Go to http://localhost:8000 to see the example\n",
      "\n",
      " * Serving Flask app \"__main__\" (lazy loading)\n",
      " * Environment: production\n",
      "   WARNING: This is a development server. Do not use it in a production deployment.\n",
      "   Use a production WSGI server instead.\n",
      " * Debug mode: off\n",
      " * Running on http://127.0.0.1:8000/ (Press CTRL+C to quit)\n",
      "127.0.0.1 - - [28/Sep/2021 23:12:52] \"\u001b[37mGET / HTTP/1.1\u001b[0m\" 200 -\n"
     ]
    }
   ],
   "source": [
    "# Serve the file over http to allow for cross origin requests\n",
    "app = flask.Flask(__name__, static_folder=\"force\")\n",
    "\n",
    "\n",
    "@app.route(\"/\")\n",
    "def static_proxy():\n",
    "    return app.send_static_file(\"force.html\")\n",
    "\n",
    "\n",
    "print(\"\\nGo to http://localhost:8000 to see the example\\n\")\n",
    "app.run(port=8000)"
   ]
  },
  {
   "source": [
    "## Simple representation"
   ],
   "cell_type": "markdown",
   "metadata": {}
  },
  {
   "cell_type": "code",
   "execution_count": 84,
   "metadata": {},
   "outputs": [
    {
     "output_type": "display_data",
     "data": {
      "text/plain": "<Figure size 432x288 with 1 Axes>",
      "image/svg+xml": "<?xml version=\"1.0\" encoding=\"utf-8\" standalone=\"no\"?>\r\n<!DOCTYPE svg PUBLIC \"-//W3C//DTD SVG 1.1//EN\"\r\n  \"http://www.w3.org/Graphics/SVG/1.1/DTD/svg11.dtd\">\r\n<!-- Created with matplotlib (https://matplotlib.org/) -->\r\n<svg height=\"302.4pt\" version=\"1.1\" viewBox=\"0 0 446.4 302.4\" width=\"446.4pt\" xmlns=\"http://www.w3.org/2000/svg\" xmlns:xlink=\"http://www.w3.org/1999/xlink\">\r\n <defs>\r\n  <style type=\"text/css\">\r\n*{stroke-linecap:butt;stroke-linejoin:round;}\r\n  </style>\r\n </defs>\r\n <g id=\"figure_1\">\r\n  <g id=\"patch_1\">\r\n   <path d=\"M 0 302.4 \r\nL 446.4 302.4 \r\nL 446.4 0 \r\nL 0 0 \r\nz\r\n\" style=\"fill:#ffffff;\"/>\r\n  </g>\r\n  <g id=\"axes_1\">\r\n   <g id=\"LineCollection_1\">\r\n    <path clip-path=\"url(#p501530fffb)\" d=\"M 64.465544 232.790806 \r\nL 255.932194 169.7602 \r\n\" style=\"fill:none;stroke:#000000;\"/>\r\n    <path clip-path=\"url(#p501530fffb)\" d=\"M 64.465544 232.790806 \r\nL 283.93951 272.187269 \r\n\" style=\"fill:none;stroke:#000000;\"/>\r\n    <path clip-path=\"url(#p501530fffb)\" d=\"M 64.465544 232.790806 \r\nL 162.110731 277.202806 \r\n\" style=\"fill:none;stroke:#000000;\"/>\r\n    <path clip-path=\"url(#p501530fffb)\" d=\"M 64.465544 232.790806 \r\nL 155.86632 154.818467 \r\n\" style=\"fill:none;stroke:#000000;\"/>\r\n    <path clip-path=\"url(#p501530fffb)\" d=\"M 64.465544 232.790806 \r\nL 280.733965 134.0284 \r\n\" style=\"fill:none;stroke:#000000;\"/>\r\n    <path clip-path=\"url(#p501530fffb)\" d=\"M 64.465544 232.790806 \r\nL 205.510886 222.890531 \r\n\" style=\"fill:none;stroke:#000000;\"/>\r\n    <path clip-path=\"url(#p501530fffb)\" d=\"M 255.932194 169.7602 \r\nL 283.93951 272.187269 \r\n\" style=\"fill:none;stroke:#000000;\"/>\r\n    <path clip-path=\"url(#p501530fffb)\" d=\"M 255.932194 169.7602 \r\nL 162.110731 277.202806 \r\n\" style=\"fill:none;stroke:#000000;\"/>\r\n    <path clip-path=\"url(#p501530fffb)\" d=\"M 255.932194 169.7602 \r\nL 155.86632 154.818467 \r\n\" style=\"fill:none;stroke:#000000;\"/>\r\n    <path clip-path=\"url(#p501530fffb)\" d=\"M 255.932194 169.7602 \r\nL 280.733965 134.0284 \r\n\" style=\"fill:none;stroke:#000000;\"/>\r\n    <path clip-path=\"url(#p501530fffb)\" d=\"M 255.932194 169.7602 \r\nL 413.61216 25.197194 \r\n\" style=\"fill:none;stroke:#000000;\"/>\r\n    <path clip-path=\"url(#p501530fffb)\" d=\"M 255.932194 169.7602 \r\nL 394.707701 246.551455 \r\n\" style=\"fill:none;stroke:#000000;\"/>\r\n    <path clip-path=\"url(#p501530fffb)\" d=\"M 255.932194 169.7602 \r\nL 32.78784 148.148225 \r\n\" style=\"fill:none;stroke:#000000;\"/>\r\n    <path clip-path=\"url(#p501530fffb)\" d=\"M 255.932194 169.7602 \r\nL 205.510886 222.890531 \r\n\" style=\"fill:none;stroke:#000000;\"/>\r\n    <path clip-path=\"url(#p501530fffb)\" d=\"M 283.93951 272.187269 \r\nL 162.110731 277.202806 \r\n\" style=\"fill:none;stroke:#000000;\"/>\r\n    <path clip-path=\"url(#p501530fffb)\" d=\"M 283.93951 272.187269 \r\nL 155.86632 154.818467 \r\n\" style=\"fill:none;stroke:#000000;\"/>\r\n    <path clip-path=\"url(#p501530fffb)\" d=\"M 283.93951 272.187269 \r\nL 280.733965 134.0284 \r\n\" style=\"fill:none;stroke:#000000;\"/>\r\n    <path clip-path=\"url(#p501530fffb)\" d=\"M 283.93951 272.187269 \r\nL 394.707701 246.551455 \r\n\" style=\"fill:none;stroke:#000000;\"/>\r\n    <path clip-path=\"url(#p501530fffb)\" d=\"M 283.93951 272.187269 \r\nL 205.510886 222.890531 \r\n\" style=\"fill:none;stroke:#000000;\"/>\r\n    <path clip-path=\"url(#p501530fffb)\" d=\"M 162.110731 277.202806 \r\nL 280.733965 134.0284 \r\n\" style=\"fill:none;stroke:#000000;\"/>\r\n    <path clip-path=\"url(#p501530fffb)\" d=\"M 162.110731 277.202806 \r\nL 394.707701 246.551455 \r\n\" style=\"fill:none;stroke:#000000;\"/>\r\n    <path clip-path=\"url(#p501530fffb)\" d=\"M 162.110731 277.202806 \r\nL 32.78784 148.148225 \r\n\" style=\"fill:none;stroke:#000000;\"/>\r\n    <path clip-path=\"url(#p501530fffb)\" d=\"M 162.110731 277.202806 \r\nL 205.510886 222.890531 \r\n\" style=\"fill:none;stroke:#000000;\"/>\r\n    <path clip-path=\"url(#p501530fffb)\" d=\"M 155.86632 154.818467 \r\nL 280.733965 134.0284 \r\n\" style=\"fill:none;stroke:#000000;\"/>\r\n    <path clip-path=\"url(#p501530fffb)\" d=\"M 155.86632 154.818467 \r\nL 394.707701 246.551455 \r\n\" style=\"fill:none;stroke:#000000;\"/>\r\n    <path clip-path=\"url(#p501530fffb)\" d=\"M 155.86632 154.818467 \r\nL 32.78784 148.148225 \r\n\" style=\"fill:none;stroke:#000000;\"/>\r\n    <path clip-path=\"url(#p501530fffb)\" d=\"M 155.86632 154.818467 \r\nL 205.510886 222.890531 \r\n\" style=\"fill:none;stroke:#000000;\"/>\r\n    <path clip-path=\"url(#p501530fffb)\" d=\"M 280.733965 134.0284 \r\nL 413.61216 25.197194 \r\n\" style=\"fill:none;stroke:#000000;\"/>\r\n    <path clip-path=\"url(#p501530fffb)\" d=\"M 280.733965 134.0284 \r\nL 32.78784 148.148225 \r\n\" style=\"fill:none;stroke:#000000;\"/>\r\n    <path clip-path=\"url(#p501530fffb)\" d=\"M 280.733965 134.0284 \r\nL 205.510886 222.890531 \r\n\" style=\"fill:none;stroke:#000000;\"/>\r\n    <path clip-path=\"url(#p501530fffb)\" d=\"M 394.707701 246.551455 \r\nL 205.510886 222.890531 \r\n\" style=\"fill:none;stroke:#000000;\"/>\r\n    <path clip-path=\"url(#p501530fffb)\" d=\"M 32.78784 148.148225 \r\nL 205.510886 222.890531 \r\n\" style=\"fill:none;stroke:#000000;\"/>\r\n   </g>\r\n   <g id=\"PathCollection_1\">\r\n    <defs>\r\n     <path d=\"M 0 8.660254 \r\nC 2.296726 8.660254 4.499694 7.747755 6.123724 6.123724 \r\nC 7.747755 4.499694 8.660254 2.296726 8.660254 0 \r\nC 8.660254 -2.296726 7.747755 -4.499694 6.123724 -6.123724 \r\nC 4.499694 -7.747755 2.296726 -8.660254 0 -8.660254 \r\nC -2.296726 -8.660254 -4.499694 -7.747755 -6.123724 -6.123724 \r\nC -7.747755 -4.499694 -8.660254 -2.296726 -8.660254 0 \r\nC -8.660254 2.296726 -7.747755 4.499694 -6.123724 6.123724 \r\nC -4.499694 7.747755 -2.296726 8.660254 0 8.660254 \r\nz\r\n\" id=\"m6717f6aa95\" style=\"stroke:#1f78b4;\"/>\r\n    </defs>\r\n    <g clip-path=\"url(#p501530fffb)\">\r\n     <use style=\"fill:#1f78b4;stroke:#1f78b4;\" x=\"64.465544\" xlink:href=\"#m6717f6aa95\" y=\"232.790806\"/>\r\n     <use style=\"fill:#1f78b4;stroke:#1f78b4;\" x=\"255.932194\" xlink:href=\"#m6717f6aa95\" y=\"169.7602\"/>\r\n     <use style=\"fill:#1f78b4;stroke:#1f78b4;\" x=\"283.93951\" xlink:href=\"#m6717f6aa95\" y=\"272.187269\"/>\r\n     <use style=\"fill:#1f78b4;stroke:#1f78b4;\" x=\"162.110731\" xlink:href=\"#m6717f6aa95\" y=\"277.202806\"/>\r\n     <use style=\"fill:#1f78b4;stroke:#1f78b4;\" x=\"155.86632\" xlink:href=\"#m6717f6aa95\" y=\"154.818467\"/>\r\n     <use style=\"fill:#1f78b4;stroke:#1f78b4;\" x=\"280.733965\" xlink:href=\"#m6717f6aa95\" y=\"134.0284\"/>\r\n     <use style=\"fill:#1f78b4;stroke:#1f78b4;\" x=\"413.61216\" xlink:href=\"#m6717f6aa95\" y=\"25.197194\"/>\r\n     <use style=\"fill:#1f78b4;stroke:#1f78b4;\" x=\"394.707701\" xlink:href=\"#m6717f6aa95\" y=\"246.551455\"/>\r\n     <use style=\"fill:#1f78b4;stroke:#1f78b4;\" x=\"32.78784\" xlink:href=\"#m6717f6aa95\" y=\"148.148225\"/>\r\n     <use style=\"fill:#1f78b4;stroke:#1f78b4;\" x=\"205.510886\" xlink:href=\"#m6717f6aa95\" y=\"222.890531\"/>\r\n    </g>\r\n   </g>\r\n   <g id=\"text_1\">\r\n    <g clip-path=\"url(#p501530fffb)\">\r\n     <!-- 0 -->\r\n     <defs>\r\n      <path d=\"M 46 36.53125 \r\nQ 46 50.203125 43.4375 55.78125 \r\nQ 40.875 61.375 34.8125 61.375 \r\nQ 28.765625 61.375 26.171875 55.78125 \r\nQ 23.578125 50.203125 23.578125 36.53125 \r\nQ 23.578125 22.703125 26.171875 17.03125 \r\nQ 28.765625 11.375 34.8125 11.375 \r\nQ 40.828125 11.375 43.40625 17.03125 \r\nQ 46 22.703125 46 36.53125 \r\nz\r\nM 64.796875 36.375 \r\nQ 64.796875 18.265625 56.984375 8.421875 \r\nQ 49.171875 -1.421875 34.8125 -1.421875 \r\nQ 20.40625 -1.421875 12.59375 8.421875 \r\nQ 4.78125 18.265625 4.78125 36.375 \r\nQ 4.78125 54.546875 12.59375 64.375 \r\nQ 20.40625 74.21875 34.8125 74.21875 \r\nQ 49.171875 74.21875 56.984375 64.375 \r\nQ 64.796875 54.546875 64.796875 36.375 \r\nz\r\n\" id=\"DejaVuSans-Bold-48\"/>\r\n     </defs>\r\n     <g transform=\"translate(60.290857 236.102056)scale(0.12 -0.12)\">\r\n      <use xlink:href=\"#DejaVuSans-Bold-48\"/>\r\n     </g>\r\n    </g>\r\n   </g>\r\n   <g id=\"text_2\">\r\n    <g clip-path=\"url(#p501530fffb)\">\r\n     <!-- 1 -->\r\n     <defs>\r\n      <path d=\"M 11.71875 12.984375 \r\nL 28.328125 12.984375 \r\nL 28.328125 60.109375 \r\nL 11.28125 56.59375 \r\nL 11.28125 69.390625 \r\nL 28.21875 72.90625 \r\nL 46.09375 72.90625 \r\nL 46.09375 12.984375 \r\nL 62.703125 12.984375 \r\nL 62.703125 0 \r\nL 11.71875 0 \r\nz\r\n\" id=\"DejaVuSans-Bold-49\"/>\r\n     </defs>\r\n     <g transform=\"translate(251.757506 173.07145)scale(0.12 -0.12)\">\r\n      <use xlink:href=\"#DejaVuSans-Bold-49\"/>\r\n     </g>\r\n    </g>\r\n   </g>\r\n   <g id=\"text_3\">\r\n    <g clip-path=\"url(#p501530fffb)\">\r\n     <!-- 2 -->\r\n     <defs>\r\n      <path d=\"M 28.8125 13.8125 \r\nL 60.890625 13.8125 \r\nL 60.890625 0 \r\nL 7.90625 0 \r\nL 7.90625 13.8125 \r\nL 34.515625 37.3125 \r\nQ 38.09375 40.53125 39.796875 43.609375 \r\nQ 41.5 46.6875 41.5 50 \r\nQ 41.5 55.125 38.0625 58.25 \r\nQ 34.625 61.375 28.90625 61.375 \r\nQ 24.515625 61.375 19.28125 59.5 \r\nQ 14.0625 57.625 8.109375 53.90625 \r\nL 8.109375 69.921875 \r\nQ 14.453125 72.015625 20.65625 73.109375 \r\nQ 26.859375 74.21875 32.8125 74.21875 \r\nQ 45.90625 74.21875 53.15625 68.453125 \r\nQ 60.40625 62.703125 60.40625 52.390625 \r\nQ 60.40625 46.4375 57.328125 41.28125 \r\nQ 54.25 36.140625 44.390625 27.484375 \r\nz\r\n\" id=\"DejaVuSans-Bold-50\"/>\r\n     </defs>\r\n     <g transform=\"translate(279.764823 275.498519)scale(0.12 -0.12)\">\r\n      <use xlink:href=\"#DejaVuSans-Bold-50\"/>\r\n     </g>\r\n    </g>\r\n   </g>\r\n   <g id=\"text_4\">\r\n    <g clip-path=\"url(#p501530fffb)\">\r\n     <!-- 3 -->\r\n     <defs>\r\n      <path d=\"M 46.578125 39.3125 \r\nQ 53.953125 37.40625 57.78125 32.6875 \r\nQ 61.625 27.984375 61.625 20.703125 \r\nQ 61.625 9.859375 53.3125 4.21875 \r\nQ 45.015625 -1.421875 29.109375 -1.421875 \r\nQ 23.484375 -1.421875 17.84375 -0.515625 \r\nQ 12.203125 0.390625 6.6875 2.203125 \r\nL 6.6875 16.703125 \r\nQ 11.96875 14.0625 17.15625 12.71875 \r\nQ 22.359375 11.375 27.390625 11.375 \r\nQ 34.859375 11.375 38.84375 13.953125 \r\nQ 42.828125 16.546875 42.828125 21.390625 \r\nQ 42.828125 26.375 38.75 28.9375 \r\nQ 34.671875 31.5 26.703125 31.5 \r\nL 19.1875 31.5 \r\nL 19.1875 43.609375 \r\nL 27.09375 43.609375 \r\nQ 34.1875 43.609375 37.640625 45.828125 \r\nQ 41.109375 48.046875 41.109375 52.59375 \r\nQ 41.109375 56.78125 37.734375 59.078125 \r\nQ 34.375 61.375 28.21875 61.375 \r\nQ 23.6875 61.375 19.046875 60.34375 \r\nQ 14.40625 59.328125 9.8125 57.328125 \r\nL 9.8125 71.09375 \r\nQ 15.375 72.65625 20.84375 73.4375 \r\nQ 26.3125 74.21875 31.59375 74.21875 \r\nQ 45.796875 74.21875 52.84375 69.546875 \r\nQ 59.90625 64.890625 59.90625 55.515625 \r\nQ 59.90625 49.125 56.53125 45.046875 \r\nQ 53.171875 40.96875 46.578125 39.3125 \r\nz\r\n\" id=\"DejaVuSans-Bold-51\"/>\r\n     </defs>\r\n     <g transform=\"translate(157.936044 280.514056)scale(0.12 -0.12)\">\r\n      <use xlink:href=\"#DejaVuSans-Bold-51\"/>\r\n     </g>\r\n    </g>\r\n   </g>\r\n   <g id=\"text_5\">\r\n    <g clip-path=\"url(#p501530fffb)\">\r\n     <!-- 4 -->\r\n     <defs>\r\n      <path d=\"M 36.8125 57.421875 \r\nL 16.21875 26.90625 \r\nL 36.8125 26.90625 \r\nz\r\nM 33.6875 72.90625 \r\nL 54.59375 72.90625 \r\nL 54.59375 26.90625 \r\nL 64.984375 26.90625 \r\nL 64.984375 13.28125 \r\nL 54.59375 13.28125 \r\nL 54.59375 0 \r\nL 36.8125 0 \r\nL 36.8125 13.28125 \r\nL 4.5 13.28125 \r\nL 4.5 29.390625 \r\nz\r\n\" id=\"DejaVuSans-Bold-52\"/>\r\n     </defs>\r\n     <g transform=\"translate(151.691633 158.129717)scale(0.12 -0.12)\">\r\n      <use xlink:href=\"#DejaVuSans-Bold-52\"/>\r\n     </g>\r\n    </g>\r\n   </g>\r\n   <g id=\"text_6\">\r\n    <g clip-path=\"url(#p501530fffb)\">\r\n     <!-- 5 -->\r\n     <defs>\r\n      <path d=\"M 10.59375 72.90625 \r\nL 57.328125 72.90625 \r\nL 57.328125 59.078125 \r\nL 25.59375 59.078125 \r\nL 25.59375 47.796875 \r\nQ 27.734375 48.390625 29.90625 48.703125 \r\nQ 32.078125 49.03125 34.421875 49.03125 \r\nQ 47.75 49.03125 55.171875 42.359375 \r\nQ 62.59375 35.6875 62.59375 23.78125 \r\nQ 62.59375 11.96875 54.515625 5.265625 \r\nQ 46.4375 -1.421875 32.078125 -1.421875 \r\nQ 25.875 -1.421875 19.796875 -0.21875 \r\nQ 13.71875 0.984375 7.71875 3.421875 \r\nL 7.71875 18.21875 \r\nQ 13.671875 14.796875 19.015625 13.078125 \r\nQ 24.359375 11.375 29.109375 11.375 \r\nQ 35.9375 11.375 39.859375 14.71875 \r\nQ 43.796875 18.0625 43.796875 23.78125 \r\nQ 43.796875 29.546875 39.859375 32.859375 \r\nQ 35.9375 36.1875 29.109375 36.1875 \r\nQ 25.046875 36.1875 20.453125 35.125 \r\nQ 15.875 34.078125 10.59375 31.890625 \r\nz\r\n\" id=\"DejaVuSans-Bold-53\"/>\r\n     </defs>\r\n     <g transform=\"translate(276.559278 137.33965)scale(0.12 -0.12)\">\r\n      <use xlink:href=\"#DejaVuSans-Bold-53\"/>\r\n     </g>\r\n    </g>\r\n   </g>\r\n   <g id=\"text_7\">\r\n    <g clip-path=\"url(#p501530fffb)\">\r\n     <!-- 6 -->\r\n     <defs>\r\n      <path d=\"M 36.1875 35.984375 \r\nQ 31.25 35.984375 28.78125 32.78125 \r\nQ 26.3125 29.59375 26.3125 23.1875 \r\nQ 26.3125 16.796875 28.78125 13.59375 \r\nQ 31.25 10.40625 36.1875 10.40625 \r\nQ 41.15625 10.40625 43.625 13.59375 \r\nQ 46.09375 16.796875 46.09375 23.1875 \r\nQ 46.09375 29.59375 43.625 32.78125 \r\nQ 41.15625 35.984375 36.1875 35.984375 \r\nz\r\nM 59.421875 71 \r\nL 59.421875 57.515625 \r\nQ 54.78125 59.71875 50.671875 60.765625 \r\nQ 46.578125 61.8125 42.671875 61.8125 \r\nQ 34.28125 61.8125 29.59375 57.140625 \r\nQ 24.90625 52.484375 24.125 43.3125 \r\nQ 27.34375 45.703125 31.09375 46.890625 \r\nQ 34.859375 48.09375 39.3125 48.09375 \r\nQ 50.484375 48.09375 57.34375 41.546875 \r\nQ 64.203125 35.015625 64.203125 24.421875 \r\nQ 64.203125 12.703125 56.53125 5.640625 \r\nQ 48.875 -1.421875 35.984375 -1.421875 \r\nQ 21.78125 -1.421875 13.984375 8.171875 \r\nQ 6.203125 17.78125 6.203125 35.40625 \r\nQ 6.203125 53.46875 15.3125 63.796875 \r\nQ 24.421875 74.125 40.28125 74.125 \r\nQ 45.3125 74.125 50.046875 73.34375 \r\nQ 54.78125 72.5625 59.421875 71 \r\nz\r\n\" id=\"DejaVuSans-Bold-54\"/>\r\n     </defs>\r\n     <g transform=\"translate(409.437472 28.508444)scale(0.12 -0.12)\">\r\n      <use xlink:href=\"#DejaVuSans-Bold-54\"/>\r\n     </g>\r\n    </g>\r\n   </g>\r\n   <g id=\"text_8\">\r\n    <g clip-path=\"url(#p501530fffb)\">\r\n     <!-- 7 -->\r\n     <defs>\r\n      <path d=\"M 6.6875 72.90625 \r\nL 61.625 72.90625 \r\nL 61.625 62.3125 \r\nL 33.203125 0 \r\nL 14.890625 0 \r\nL 41.796875 59.078125 \r\nL 6.6875 59.078125 \r\nz\r\n\" id=\"DejaVuSans-Bold-55\"/>\r\n     </defs>\r\n     <g transform=\"translate(390.533014 249.862705)scale(0.12 -0.12)\">\r\n      <use xlink:href=\"#DejaVuSans-Bold-55\"/>\r\n     </g>\r\n    </g>\r\n   </g>\r\n   <g id=\"text_9\">\r\n    <g clip-path=\"url(#p501530fffb)\">\r\n     <!-- 8 -->\r\n     <defs>\r\n      <path d=\"M 34.8125 32.625 \r\nQ 29.546875 32.625 26.703125 29.734375 \r\nQ 23.875 26.859375 23.875 21.484375 \r\nQ 23.875 16.109375 26.703125 13.25 \r\nQ 29.546875 10.40625 34.8125 10.40625 \r\nQ 40.046875 10.40625 42.828125 13.25 \r\nQ 45.609375 16.109375 45.609375 21.484375 \r\nQ 45.609375 26.90625 42.828125 29.765625 \r\nQ 40.046875 32.625 34.8125 32.625 \r\nz\r\nM 21.09375 38.8125 \r\nQ 14.453125 40.828125 11.078125 44.96875 \r\nQ 7.71875 49.125 7.71875 55.328125 \r\nQ 7.71875 64.546875 14.59375 69.375 \r\nQ 21.484375 74.21875 34.8125 74.21875 \r\nQ 48.046875 74.21875 54.921875 69.40625 \r\nQ 61.8125 64.59375 61.8125 55.328125 \r\nQ 61.8125 49.125 58.421875 44.96875 \r\nQ 55.03125 40.828125 48.390625 38.8125 \r\nQ 55.8125 36.765625 59.59375 32.15625 \r\nQ 63.375 27.546875 63.375 20.515625 \r\nQ 63.375 9.671875 56.171875 4.125 \r\nQ 48.96875 -1.421875 34.8125 -1.421875 \r\nQ 20.609375 -1.421875 13.359375 4.125 \r\nQ 6.109375 9.671875 6.109375 20.515625 \r\nQ 6.109375 27.546875 9.890625 32.15625 \r\nQ 13.671875 36.765625 21.09375 38.8125 \r\nz\r\nM 25.484375 53.421875 \r\nQ 25.484375 49.078125 27.90625 46.734375 \r\nQ 30.328125 44.390625 34.8125 44.390625 \r\nQ 39.203125 44.390625 41.59375 46.734375 \r\nQ 44 49.078125 44 53.421875 \r\nQ 44 57.765625 41.59375 60.078125 \r\nQ 39.203125 62.40625 34.8125 62.40625 \r\nQ 30.328125 62.40625 27.90625 60.0625 \r\nQ 25.484375 57.71875 25.484375 53.421875 \r\nz\r\n\" id=\"DejaVuSans-Bold-56\"/>\r\n     </defs>\r\n     <g transform=\"translate(28.613153 151.459475)scale(0.12 -0.12)\">\r\n      <use xlink:href=\"#DejaVuSans-Bold-56\"/>\r\n     </g>\r\n    </g>\r\n   </g>\r\n   <g id=\"text_10\">\r\n    <g clip-path=\"url(#p501530fffb)\">\r\n     <!-- 9 -->\r\n     <defs>\r\n      <path d=\"M 10.015625 1.609375 \r\nL 10.015625 15.09375 \r\nQ 14.5 12.984375 18.59375 11.9375 \r\nQ 22.703125 10.890625 26.703125 10.890625 \r\nQ 35.109375 10.890625 39.796875 15.546875 \r\nQ 44.484375 20.21875 45.3125 29.390625 \r\nQ 42 26.953125 38.234375 25.734375 \r\nQ 34.46875 24.515625 30.078125 24.515625 \r\nQ 18.890625 24.515625 12.03125 31.03125 \r\nQ 5.171875 37.546875 5.171875 48.1875 \r\nQ 5.171875 59.96875 12.8125 67.046875 \r\nQ 20.453125 74.125 33.296875 74.125 \r\nQ 47.5625 74.125 55.375 64.5 \r\nQ 63.1875 54.890625 63.1875 37.3125 \r\nQ 63.1875 19.234375 54.046875 8.90625 \r\nQ 44.921875 -1.421875 29 -1.421875 \r\nQ 23.875 -1.421875 19.1875 -0.65625 \r\nQ 14.5 0.09375 10.015625 1.609375 \r\nz\r\nM 33.203125 36.71875 \r\nQ 38.140625 36.71875 40.625 39.90625 \r\nQ 43.109375 43.109375 43.109375 49.515625 \r\nQ 43.109375 55.859375 40.625 59.078125 \r\nQ 38.140625 62.3125 33.203125 62.3125 \r\nQ 28.265625 62.3125 25.78125 59.078125 \r\nQ 23.296875 55.859375 23.296875 49.515625 \r\nQ 23.296875 43.109375 25.78125 39.90625 \r\nQ 28.265625 36.71875 33.203125 36.71875 \r\nz\r\n\" id=\"DejaVuSans-Bold-57\"/>\r\n     </defs>\r\n     <g transform=\"translate(201.336198 226.201781)scale(0.12 -0.12)\">\r\n      <use xlink:href=\"#DejaVuSans-Bold-57\"/>\r\n     </g>\r\n    </g>\r\n   </g>\r\n  </g>\r\n </g>\r\n <defs>\r\n  <clipPath id=\"p501530fffb\">\r\n   <rect height=\"288\" width=\"432\" x=\"7.2\" y=\"7.2\"/>\r\n  </clipPath>\r\n </defs>\r\n</svg>\r\n",
      "image/png": "[encoded data removed]"
     },
     "metadata": {}
    }
   ],
   "source": [
    "nx.draw(G, with_labels=True, font_weight='bold')"
   ]
  }
 ]
}